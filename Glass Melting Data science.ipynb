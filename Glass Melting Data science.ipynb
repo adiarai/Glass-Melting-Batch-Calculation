{
 "cells": [
  {
   "cell_type": "code",
   "execution_count": 1,
   "id": "5d330519",
   "metadata": {},
   "outputs": [],
   "source": [
    "import numpy as np"
   ]
  },
  {
   "cell_type": "code",
   "execution_count": 2,
   "id": "fc4920e7",
   "metadata": {},
   "outputs": [],
   "source": [
    "from scipy import linalg"
   ]
  },
  {
   "cell_type": "code",
   "execution_count": 3,
   "id": "c65c28ae",
   "metadata": {},
   "outputs": [],
   "source": [
    "A=np.array([[0.995,0.690,0.000,0.000,0.000],[0.005,0.180,0.000,0.000,0.000],[0.000,0.020,0.310,0.500,0.000],[0.000,0.000,0.210,0.050,0.000],[0.000,0.050,0.000,0.000,0.585]])"
   ]
  },
  {
   "cell_type": "code",
   "execution_count": 4,
   "id": "f2b0d55f",
   "metadata": {},
   "outputs": [
    {
     "name": "stdout",
     "output_type": "stream",
     "text": [
      "[[0.995 0.69  0.    0.    0.   ]\n",
      " [0.005 0.18  0.    0.    0.   ]\n",
      " [0.    0.02  0.31  0.5   0.   ]\n",
      " [0.    0.    0.21  0.05  0.   ]\n",
      " [0.    0.05  0.    0.    0.585]]\n"
     ]
    }
   ],
   "source": [
    "print(A)"
   ]
  },
  {
   "cell_type": "code",
   "execution_count": 11,
   "id": "67910da2",
   "metadata": {},
   "outputs": [],
   "source": [
    "B=np.array([72.0,1.5,9.0,3.0,14.5])"
   ]
  },
  {
   "cell_type": "code",
   "execution_count": 12,
   "id": "4369fa82",
   "metadata": {},
   "outputs": [],
   "source": [
    "B=B.T"
   ]
  },
  {
   "cell_type": "code",
   "execution_count": 13,
   "id": "779240e7",
   "metadata": {},
   "outputs": [
    {
     "name": "stdout",
     "output_type": "stream",
     "text": [
      "[72.   1.5  9.   3.  14.5]\n"
     ]
    }
   ],
   "source": [
    "print(B)"
   ]
  },
  {
   "cell_type": "code",
   "execution_count": 14,
   "id": "f8281bfb",
   "metadata": {},
   "outputs": [],
   "source": [
    "X=linalg.solve(A,B)"
   ]
  },
  {
   "cell_type": "code",
   "execution_count": 15,
   "id": "b9e0c182",
   "metadata": {},
   "outputs": [
    {
     "name": "stdout",
     "output_type": "stream",
     "text": [
      "[67.89069172  6.44748079 11.80388247 10.42369364 24.23525805]\n"
     ]
    }
   ],
   "source": [
    "print(X)"
   ]
  },
  {
   "cell_type": "code",
   "execution_count": null,
   "id": "6e43ea9d",
   "metadata": {},
   "outputs": [],
   "source": []
  }
 ],
 "metadata": {
  "kernelspec": {
   "display_name": "Python 3 (ipykernel)",
   "language": "python",
   "name": "python3"
  },
  "language_info": {
   "codemirror_mode": {
    "name": "ipython",
    "version": 3
   },
   "file_extension": ".py",
   "mimetype": "text/x-python",
   "name": "python",
   "nbconvert_exporter": "python",
   "pygments_lexer": "ipython3",
   "version": "3.9.13"
  }
 },
 "nbformat": 4,
 "nbformat_minor": 5
}
