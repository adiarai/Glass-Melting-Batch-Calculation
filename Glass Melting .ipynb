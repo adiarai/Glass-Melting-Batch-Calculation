{
 "cells": [
  {
   "cell_type": "code",
   "execution_count": 3,
   "id": "04f4c0f3",
   "metadata": {},
   "outputs": [],
   "source": [
    "import numpy as np"
   ]
  },
  {
   "cell_type": "code",
   "execution_count": 4,
   "id": "5186a86a",
   "metadata": {},
   "outputs": [],
   "source": [
    "from scipy import linalg"
   ]
  },
  {
   "cell_type": "code",
   "execution_count": 5,
   "id": "9c7b3194",
   "metadata": {},
   "outputs": [],
   "source": [
    "A=np.array([[0.995,0.690,0.000,0.000,0.000],[0.005,0.180,0.000,0.000,0.000],[0.000,0.020,0.310,0.500,0.000],[0.000,0.000,0.210,0.050,0.000],[0.000,0.050,0.000,0.000,0.585]])"
   ]
  },
  {
   "cell_type": "code",
   "execution_count": 6,
   "id": "7d94a19c",
   "metadata": {},
   "outputs": [
    {
     "name": "stdout",
     "output_type": "stream",
     "text": [
      "[[0.995 0.69  0.    0.    0.   ]\n",
      " [0.005 0.18  0.    0.    0.   ]\n",
      " [0.    0.02  0.31  0.5   0.   ]\n",
      " [0.    0.    0.21  0.05  0.   ]\n",
      " [0.    0.05  0.    0.    0.585]]\n"
     ]
    }
   ],
   "source": [
    "print(A)"
   ]
  },
  {
   "cell_type": "code",
   "execution_count": 7,
   "id": "ccf11636",
   "metadata": {},
   "outputs": [],
   "source": [
    "B=np.array([72.0,1.5,9.0,3.0,14.5])"
   ]
  },
  {
   "cell_type": "code",
   "execution_count": 8,
   "id": "231eb146",
   "metadata": {},
   "outputs": [],
   "source": [
    "B=B.T"
   ]
  },
  {
   "cell_type": "code",
   "execution_count": 9,
   "id": "185949de",
   "metadata": {},
   "outputs": [
    {
     "name": "stdout",
     "output_type": "stream",
     "text": [
      "[72.   1.5  9.   3.  14.5]\n"
     ]
    }
   ],
   "source": [
    "print(B)"
   ]
  },
  {
   "cell_type": "code",
   "execution_count": 10,
   "id": "95f1bda0",
   "metadata": {},
   "outputs": [],
   "source": [
    "X=linalg.solve(A,B)"
   ]
  },
  {
   "cell_type": "code",
   "execution_count": 11,
   "id": "d1da541d",
   "metadata": {},
   "outputs": [
    {
     "name": "stdout",
     "output_type": "stream",
     "text": [
      "[67.89069172  6.44748079 11.80388247 10.42369364 24.23525805]\n"
     ]
    }
   ],
   "source": [
    "print(X)"
   ]
  },
  {
   "cell_type": "code",
   "execution_count": 20,
   "id": "94847489",
   "metadata": {},
   "outputs": [],
   "source": [
    "A=np.array([[1,1],[1,0.5]])"
   ]
  },
  {
   "cell_type": "code",
   "execution_count": 21,
   "id": "bdfeb168",
   "metadata": {},
   "outputs": [
    {
     "name": "stdout",
     "output_type": "stream",
     "text": [
      "[[1.  1. ]\n",
      " [1.  0.5]]\n"
     ]
    }
   ],
   "source": [
    "print(A)"
   ]
  },
  {
   "cell_type": "code",
   "execution_count": 22,
   "id": "6eada4e6",
   "metadata": {},
   "outputs": [],
   "source": [
    "B=np.array([[4,3.7]])"
   ]
  },
  {
   "cell_type": "code",
   "execution_count": 23,
   "id": "62fe43a1",
   "metadata": {},
   "outputs": [],
   "source": [
    "B=B.T"
   ]
  },
  {
   "cell_type": "code",
   "execution_count": 24,
   "id": "50701ede",
   "metadata": {},
   "outputs": [
    {
     "name": "stdout",
     "output_type": "stream",
     "text": [
      "[[4. ]\n",
      " [3.7]]\n"
     ]
    }
   ],
   "source": [
    "print(B)"
   ]
  },
  {
   "cell_type": "code",
   "execution_count": 25,
   "id": "b8811807",
   "metadata": {},
   "outputs": [],
   "source": [
    "X=linalg.solve(A,B)"
   ]
  },
  {
   "cell_type": "code",
   "execution_count": 27,
   "id": "937b4e0c",
   "metadata": {},
   "outputs": [
    {
     "name": "stdout",
     "output_type": "stream",
     "text": [
      "[[3.4]\n",
      " [0.6]]\n"
     ]
    }
   ],
   "source": [
    "print(X)"
   ]
  },
  {
   "cell_type": "code",
   "execution_count": null,
   "id": "76febf63",
   "metadata": {},
   "outputs": [],
   "source": []
  }
 ],
 "metadata": {
  "kernelspec": {
   "display_name": "Python 3 (ipykernel)",
   "language": "python",
   "name": "python3"
  },
  "language_info": {
   "codemirror_mode": {
    "name": "ipython",
    "version": 3
   },
   "file_extension": ".py",
   "mimetype": "text/x-python",
   "name": "python",
   "nbconvert_exporter": "python",
   "pygments_lexer": "ipython3",
   "version": "3.9.13"
  }
 },
 "nbformat": 4,
 "nbformat_minor": 5
}
